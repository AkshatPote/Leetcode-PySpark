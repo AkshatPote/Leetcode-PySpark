{
 "cells": [
  {
   "cell_type": "code",
   "execution_count": 0,
   "metadata": {
    "application/vnd.databricks.v1+cell": {
     "cellMetadata": {
      "byteLimit": 2048000,
      "rowLimit": 10000
     },
     "inputWidgets": {},
     "nuid": "4227a43e-5ca5-4da0-9b8f-f8e3606c0699",
     "showTitle": false,
     "title": ""
    }
   },
   "outputs": [],
   "source": [
    "from pyspark.sql.functions import *\n",
    "from pyspark.sql.types import *"
   ]
  },
  {
   "cell_type": "code",
   "execution_count": 0,
   "metadata": {
    "application/vnd.databricks.v1+cell": {
     "cellMetadata": {
      "byteLimit": 2048000,
      "rowLimit": 10000
     },
     "inputWidgets": {},
     "nuid": "4d72883b-f496-4404-9493-9ec924b3c1ee",
     "showTitle": false,
     "title": ""
    }
   },
   "outputs": [],
   "source": [
    "data = ([0, 'Y', 'N'], [1, 'Y', 'Y'], [2, 'N', 'Y'], [3, 'Y', 'Y'], [4, 'N', 'N'])\n",
    "\n",
    "schema = 'product_id integer, low_fats string, recyclable string'\n",
    "\n",
    "prod_df = spark.createDataFrame(data = data, schema = schema)"
   ]
  },
  {
   "cell_type": "code",
   "execution_count": 0,
   "metadata": {
    "application/vnd.databricks.v1+cell": {
     "cellMetadata": {
      "byteLimit": 2048000,
      "rowLimit": 10000
     },
     "inputWidgets": {},
     "nuid": "06dbd73d-e0a9-49ba-a46c-ffe5257e6032",
     "showTitle": false,
     "title": ""
    }
   },
   "outputs": [
    {
     "output_type": "stream",
     "name": "stdout",
     "output_type": "stream",
     "text": [
      "+----------+--------+----------+\n|product_id|low_fats|recyclable|\n+----------+--------+----------+\n|         0|       Y|         N|\n|         1|       Y|         Y|\n|         2|       N|         Y|\n|         3|       Y|         Y|\n|         4|       N|         N|\n+----------+--------+----------+\n\n"
     ]
    }
   ],
   "source": [
    "prod_df.show()"
   ]
  },
  {
   "cell_type": "code",
   "execution_count": 0,
   "metadata": {
    "application/vnd.databricks.v1+cell": {
     "cellMetadata": {
      "byteLimit": 2048000,
      "rowLimit": 10000
     },
     "inputWidgets": {},
     "nuid": "e86beccf-6f5a-4c47-9828-e9ca04635465",
     "showTitle": false,
     "title": ""
    }
   },
   "outputs": [
    {
     "output_type": "stream",
     "name": "stdout",
     "output_type": "stream",
     "text": [
      "+----------+--------+\n|product_id|low_fats|\n+----------+--------+\n|         1|       Y|\n|         3|       Y|\n+----------+--------+\n\n"
     ]
    }
   ],
   "source": [
    "prod_df.where((col(\"low_fats\")=='Y') & (col(\"recyclable\")=='Y')).select(\"product_id\", \"low_fats\").show()"
   ]
  }
 ],
 "metadata": {
  "application/vnd.databricks.v1+notebook": {
   "dashboards": [],
   "environmentMetadata": null,
   "language": "python",
   "notebookMetadata": {
    "pythonIndentUnit": 4
   },
   "notebookName": "1757. Recyclable and Low Fat Products",
   "widgets": {}
  }
 },
 "nbformat": 4,
 "nbformat_minor": 0
}
