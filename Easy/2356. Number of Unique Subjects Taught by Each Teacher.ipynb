{
 "cells": [
  {
   "cell_type": "code",
   "execution_count": 0,
   "metadata": {
    "application/vnd.databricks.v1+cell": {
     "cellMetadata": {
      "byteLimit": 2048000,
      "rowLimit": 10000
     },
     "inputWidgets": {},
     "nuid": "9678288d-26ea-4d30-b89b-51b64d8c4dfe",
     "showTitle": false,
     "title": ""
    }
   },
   "outputs": [],
   "source": [
    "from pyspark.sql.functions import *\n",
    "from pyspark.sql.types import *\n",
    "from pyspark.sql.window import Window"
   ]
  },
  {
   "cell_type": "code",
   "execution_count": 0,
   "metadata": {
    "application/vnd.databricks.v1+cell": {
     "cellMetadata": {
      "byteLimit": 2048000,
      "rowLimit": 10000
     },
     "inputWidgets": {},
     "nuid": "a09b71da-f78a-4e66-b144-15e2994c1c65",
     "showTitle": false,
     "title": ""
    }
   },
   "outputs": [
    {
     "output_type": "display_data",
     "data": {
      "text/plain": [
       "\u001B[0;31m---------------------------------------------------------------------------\u001B[0m\n",
       "\u001B[0;31mNameError\u001B[0m                                 Traceback (most recent call last)\n",
       "File \u001B[0;32m<command-3280365739895037>:1\u001B[0m\n",
       "\u001B[0;32m----> 1\u001B[0m \u001B[43mSparkSession\u001B[49m\u001B[38;5;241m.\u001B[39mbuilder\u001B[38;5;241m.\u001B[39mmaster(\u001B[38;5;124m\"\u001B[39m\u001B[38;5;124mlocal[5])\u001B[39m\u001B[38;5;124m\"\u001B[39m)\u001B[38;5;241m.\u001B[39mappName(\u001B[38;5;124m\"\u001B[39m\u001B[38;5;124mdemo\u001B[39m\u001B[38;5;124m\"\u001B[39m)\u001B[38;5;241m.\u001B[39mgetOrCreate()\n",
       "\n",
       "\u001B[0;31mNameError\u001B[0m: name 'SparkSession' is not defined"
      ]
     },
     "metadata": {
      "application/vnd.databricks.v1+output": {
       "arguments": {},
       "data": "\u001B[0;31m---------------------------------------------------------------------------\u001B[0m\n\u001B[0;31mNameError\u001B[0m                                 Traceback (most recent call last)\nFile \u001B[0;32m<command-3280365739895037>:1\u001B[0m\n\u001B[0;32m----> 1\u001B[0m \u001B[43mSparkSession\u001B[49m\u001B[38;5;241m.\u001B[39mbuilder\u001B[38;5;241m.\u001B[39mmaster(\u001B[38;5;124m\"\u001B[39m\u001B[38;5;124mlocal[5])\u001B[39m\u001B[38;5;124m\"\u001B[39m)\u001B[38;5;241m.\u001B[39mappName(\u001B[38;5;124m\"\u001B[39m\u001B[38;5;124mdemo\u001B[39m\u001B[38;5;124m\"\u001B[39m)\u001B[38;5;241m.\u001B[39mgetOrCreate()\n\n\u001B[0;31mNameError\u001B[0m: name 'SparkSession' is not defined",
       "errorSummary": "<span class='ansi-red-fg'>NameError</span>: name 'SparkSession' is not defined",
       "errorTraceType": "ansi",
       "metadata": {},
       "type": "ipynbError"
      }
     },
     "output_type": "display_data"
    }
   ],
   "source": []
  },
  {
   "cell_type": "code",
   "execution_count": 0,
   "metadata": {
    "application/vnd.databricks.v1+cell": {
     "cellMetadata": {
      "byteLimit": 2048000,
      "rowLimit": 10000
     },
     "inputWidgets": {},
     "nuid": "343d05fe-8fb0-4eb6-9eba-e812672cdd7d",
     "showTitle": false,
     "title": ""
    }
   },
   "outputs": [],
   "source": [
    "columns=['teacher_id', 'subject_id', 'dept_id']\n",
    "\n",
    "data = ([1, 2, 3], [1, 2, 4], [1, 3, 3], [2, 1, 1], [2, 2, 1], [2, 3, 1], [2, 4, 1])\n",
    "\n",
    "teacher_df = spark.createDataFrame(data = data, schema = columns)"
   ]
  },
  {
   "cell_type": "code",
   "execution_count": 0,
   "metadata": {
    "application/vnd.databricks.v1+cell": {
     "cellMetadata": {
      "byteLimit": 2048000,
      "rowLimit": 10000
     },
     "inputWidgets": {},
     "nuid": "9d6f4329-c03a-4df4-bb79-5c844634f9be",
     "showTitle": false,
     "title": ""
    }
   },
   "outputs": [
    {
     "output_type": "stream",
     "name": "stdout",
     "output_type": "stream",
     "text": [
      "+----------+----------+-------+\n|teacher_id|subject_id|dept_id|\n+----------+----------+-------+\n|         1|         2|      3|\n|         1|         2|      4|\n|         1|         3|      3|\n|         2|         1|      1|\n|         2|         2|      1|\n|         2|         3|      1|\n|         2|         4|      1|\n+----------+----------+-------+\n\n"
     ]
    }
   ],
   "source": [
    "teacher_df.show()"
   ]
  },
  {
   "cell_type": "code",
   "execution_count": 0,
   "metadata": {
    "application/vnd.databricks.v1+cell": {
     "cellMetadata": {
      "byteLimit": 2048000,
      "rowLimit": 10000
     },
     "inputWidgets": {},
     "nuid": "c302ca4b-42cc-4e4a-bc25-a4c6e690e560",
     "showTitle": false,
     "title": ""
    }
   },
   "outputs": [
    {
     "output_type": "stream",
     "name": "stdout",
     "output_type": "stream",
     "text": [
      "+----------+----------+---------+\n|teacher_id|subject_id|sub_count|\n+----------+----------+---------+\n|         1|         3|        1|\n|         2|         1|        1|\n|         2|         2|        1|\n|         2|         3|        1|\n|         2|         4|        1|\n+----------+----------+---------+\n\n"
     ]
    }
   ],
   "source": [
    "teacher_df.groupBy(\"teacher_id\",\"subject_id\").agg(count(\"subject_id\").alias(\"sub_count\")).where(col(\"sub_count\")==1).`show()"
   ]
  },
  {
   "cell_type": "code",
   "execution_count": 0,
   "metadata": {
    "application/vnd.databricks.v1+cell": {
     "cellMetadata": {
      "byteLimit": 2048000,
      "rowLimit": 10000
     },
     "inputWidgets": {},
     "nuid": "8c43d0f0-b2ef-4087-94f6-b65b3b1093b7",
     "showTitle": false,
     "title": ""
    }
   },
   "outputs": [
    {
     "output_type": "stream",
     "name": "stdout",
     "output_type": "stream",
     "text": [
      "+----------+---+\n|teacher_id|cnt|\n+----------+---+\n|         1|  2|\n|         2|  4|\n+----------+---+\n\n"
     ]
    }
   ],
   "source": [
    "teacher_df.select(\"teacher_id\",\"subject_id\").distinct().groupBy(\"teacher_id\").agg(count(\"*\").alias(\"cnt\")).show()"
   ]
  }
 ],
 "metadata": {
  "application/vnd.databricks.v1+notebook": {
   "dashboards": [],
   "environmentMetadata": null,
   "language": "python",
   "notebookMetadata": {
    "pythonIndentUnit": 4
   },
   "notebookName": "2356. Number of Unique Subjects Taught by Each Teacher",
   "widgets": {}
  }
 },
 "nbformat": 4,
 "nbformat_minor": 0
}
