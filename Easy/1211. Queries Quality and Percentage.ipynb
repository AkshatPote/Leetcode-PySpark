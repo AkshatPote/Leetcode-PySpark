{
 "cells": [
  {
   "cell_type": "code",
   "execution_count": 0,
   "metadata": {
    "application/vnd.databricks.v1+cell": {
     "cellMetadata": {
      "byteLimit": 2048000,
      "rowLimit": 10000
     },
     "inputWidgets": {},
     "nuid": "90954164-f738-4c44-9c67-8e81b84a35a2",
     "showTitle": false,
     "title": ""
    }
   },
   "outputs": [],
   "source": [
    "data = [['Dog', 'Golden Retriever', 1, 5], ['Dog', 'German Shepherd', 2, 5], ['Dog', 'Mule', 200, 1], ['Cat', 'Shirazi', 5, 2], ['Cat', 'Siamese', 3, 3], ['Cat', 'Sphynx', 7, 4]]\n",
    "\n",
    "schema=['query_name', 'result', 'position', 'rating']\n",
    "\n",
    "animal_df = spark.createDataFrame(data = data, schema = schema)"
   ]
  },
  {
   "cell_type": "code",
   "execution_count": 0,
   "metadata": {
    "application/vnd.databricks.v1+cell": {
     "cellMetadata": {
      "byteLimit": 2048000,
      "rowLimit": 10000
     },
     "inputWidgets": {},
     "nuid": "c42a1232-71b9-4ec3-ab28-dd9174e6fbb9",
     "showTitle": false,
     "title": ""
    }
   },
   "outputs": [],
   "source": [
    "from pyspark.sql.functions import *\n",
    "from pyspark.sql.types import *\n",
    "from pyspark.sql.window import Window"
   ]
  },
  {
   "cell_type": "code",
   "execution_count": 0,
   "metadata": {
    "application/vnd.databricks.v1+cell": {
     "cellMetadata": {
      "byteLimit": 2048000,
      "rowLimit": 10000
     },
     "inputWidgets": {},
     "nuid": "fafbad9c-2dfd-4650-9fe7-9b8e7566de12",
     "showTitle": false,
     "title": ""
    }
   },
   "outputs": [
    {
     "output_type": "stream",
     "name": "stdout",
     "output_type": "stream",
     "text": [
      "+----------+----------------+--------+------+\n|query_name|          result|position|rating|\n+----------+----------------+--------+------+\n|       Dog|Golden Retriever|       1|     5|\n|       Dog| German Shepherd|       2|     5|\n|       Dog|            Mule|     200|     1|\n|       Cat|         Shirazi|       5|     2|\n|       Cat|         Siamese|       3|     3|\n|       Cat|          Sphynx|       7|     4|\n+----------+----------------+--------+------+\n\n"
     ]
    }
   ],
   "source": [
    "animal_df.show()\n"
   ]
  },
  {
   "cell_type": "code",
   "execution_count": 0,
   "metadata": {
    "application/vnd.databricks.v1+cell": {
     "cellMetadata": {
      "byteLimit": 2048000,
      "rowLimit": 10000
     },
     "inputWidgets": {},
     "nuid": "578ab034-1dab-4dac-86a0-f6282d834e30",
     "showTitle": false,
     "title": ""
    }
   },
   "outputs": [],
   "source": [
    "    animal_df = animal_df.withColumn(\"ratio\",(col(\"rating\"))/col(\"position\"))"
   ]
  },
  {
   "cell_type": "code",
   "execution_count": 0,
   "metadata": {
    "application/vnd.databricks.v1+cell": {
     "cellMetadata": {
      "byteLimit": 2048000,
      "rowLimit": 10000
     },
     "inputWidgets": {},
     "nuid": "f0316aa9-75fc-4ee3-8de3-283242e79a23",
     "showTitle": false,
     "title": ""
    }
   },
   "outputs": [
    {
     "output_type": "stream",
     "name": "stdout",
     "output_type": "stream",
     "text": [
      "+----------+----------------+--------+------+------------------+\n|query_name|          result|position|rating|             ratio|\n+----------+----------------+--------+------+------------------+\n|       Dog|Golden Retriever|       1|     5|               5.0|\n|       Dog| German Shepherd|       2|     5|               2.5|\n|       Dog|            Mule|     200|     1|             0.005|\n|       Cat|         Shirazi|       5|     2|               0.4|\n|       Cat|         Siamese|       3|     3|               1.0|\n|       Cat|          Sphynx|       7|     4|0.5714285714285714|\n+----------+----------------+--------+------+------------------+\n\n"
     ]
    }
   ],
   "source": [
    "animal_df.show()"
   ]
  },
  {
   "cell_type": "code",
   "execution_count": 0,
   "metadata": {
    "application/vnd.databricks.v1+cell": {
     "cellMetadata": {
      "byteLimit": 2048000,
      "rowLimit": 10000
     },
     "inputWidgets": {},
     "nuid": "1e5f3d8e-1955-4133-a9e9-620374dbaba3",
     "showTitle": false,
     "title": ""
    }
   },
   "outputs": [
    {
     "output_type": "stream",
     "name": "stdout",
     "output_type": "stream",
     "text": [
      "+----------+-----+-------------------------------------------------------------+\n|query_name|ratio|round(((sum(CAST((rating < 3) AS INT)) / count(1)) * 100), 2)|\n+----------+-----+-------------------------------------------------------------+\n|       Dog|  2.5|                                                        33.33|\n|       Cat| 0.66|                                                        33.33|\n+----------+-----+-------------------------------------------------------------+\n\n"
     ]
    }
   ],
   "source": [
    "animal_df.groupBy(\"query_name\").agg(\n",
    "    round(avg(\"ratio\"),2).alias(\"ratio\"),round((sum((col(\"rating\") <3).cast(\"int\"))/count(\"*\")*100),2)).show()"
   ]
  }
 ],
 "metadata": {
  "application/vnd.databricks.v1+notebook": {
   "dashboards": [],
   "environmentMetadata": null,
   "language": "python",
   "notebookMetadata": {
    "pythonIndentUnit": 4
   },
   "notebookName": "1211. Queries Quality and Percentage",
   "widgets": {}
  }
 },
 "nbformat": 4,
 "nbformat_minor": 0
}
