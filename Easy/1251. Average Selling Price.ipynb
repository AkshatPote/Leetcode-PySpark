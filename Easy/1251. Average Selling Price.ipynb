{
 "cells": [
  {
   "cell_type": "code",
   "execution_count": 0,
   "metadata": {
    "application/vnd.databricks.v1+cell": {
     "cellMetadata": {
      "byteLimit": 2048000,
      "rowLimit": 10000
     },
     "inputWidgets": {},
     "nuid": "45154d28-340b-406d-ab2a-53bfdd0a7c1a",
     "showTitle": false,
     "title": ""
    }
   },
   "outputs": [],
   "source": [
    "from pyspark.sql.functions import *\n",
    "from pyspark.sql.types import *\n",
    "from pyspark.sql.window import Window"
   ]
  },
  {
   "cell_type": "code",
   "execution_count": 0,
   "metadata": {
    "application/vnd.databricks.v1+cell": {
     "cellMetadata": {
      "byteLimit": 2048000,
      "rowLimit": 10000
     },
     "inputWidgets": {},
     "nuid": "f4c3910f-f015-41f4-b5ae-cb5a92016f2f",
     "showTitle": false,
     "title": ""
    }
   },
   "outputs": [],
   "source": [
    "data = ([1, '2019-02-17', '2019-02-28', 5], [1, '2019-03-01', '2019-03-22', 20], [2, '2019-02-01', '2019-02-20', 15], [2, '2019-02-21','2019-03-31', 30])\n",
    "\n",
    "columns=['product_id', 'start_date', 'end_date', 'price']\n",
    "\n",
    "prod_df = spark.createDataFrame(data = data, schema = columns)\n",
    "\n",
    "data1 = ([1, '2019-02-25', 100], [1, '2019-03-01', 15], [2, '2019-02-10', 200], [2, '2019-03-22', 30])\n",
    "\n",
    "columns1 =['product_id', 'purchase_date', 'units']\n",
    "\n",
    "unitssold_df = spark.createDataFrame(data = data1, schema = columns1)"
   ]
  },
  {
   "cell_type": "code",
   "execution_count": 0,
   "metadata": {
    "application/vnd.databricks.v1+cell": {
     "cellMetadata": {
      "byteLimit": 2048000,
      "rowLimit": 10000
     },
     "inputWidgets": {},
     "nuid": "debdc3bf-1ed8-4758-9bc8-884a44e1d082",
     "showTitle": false,
     "title": ""
    }
   },
   "outputs": [
    {
     "output_type": "stream",
     "name": "stdout",
     "output_type": "stream",
     "text": [
      "+----------+----------+----------+-----+\n|product_id|start_date|  end_date|price|\n+----------+----------+----------+-----+\n|         1|2019-02-17|2019-02-28|    5|\n|         1|2019-03-01|2019-03-22|   20|\n|         2|2019-02-01|2019-02-20|   15|\n|         2|2019-02-21|2019-03-31|   30|\n+----------+----------+----------+-----+\n\n+----------+-------------+-----+\n|product_id|purchase_date|units|\n+----------+-------------+-----+\n|         1|   2019-02-25|  100|\n|         1|   2019-03-01|   15|\n|         2|   2019-02-10|  200|\n|         2|   2019-03-22|   30|\n+----------+-------------+-----+\n\n"
     ]
    }
   ],
   "source": [
    "prod_df.show()\n",
    "unitssold_df.show()"
   ]
  },
  {
   "cell_type": "code",
   "execution_count": 0,
   "metadata": {
    "application/vnd.databricks.v1+cell": {
     "cellMetadata": {
      "byteLimit": 2048000,
      "rowLimit": 10000
     },
     "inputWidgets": {},
     "nuid": "a76ac35f-3dab-4dea-98fb-69e7b4d48c15",
     "showTitle": false,
     "title": ""
    }
   },
   "outputs": [],
   "source": [
    "join_df = prod_df.join(unitssold_df,(prod_df.product_id == unitssold_df.product_id) & (unitssold_df.purchase_date >= prod_df.start_date) & (unitssold_df.purchase_date <= prod_df.end_date),\"inner\").select(\"*\",((col(\"price\"))*(col(\"units\"))).alias(\"total_price\"))"
   ]
  },
  {
   "cell_type": "code",
   "execution_count": 0,
   "metadata": {
    "application/vnd.databricks.v1+cell": {
     "cellMetadata": {
      "byteLimit": 2048000,
      "rowLimit": 10000
     },
     "inputWidgets": {},
     "nuid": "a767e27d-82d7-4f66-bb55-49716d0fb776",
     "showTitle": false,
     "title": ""
    }
   },
   "outputs": [
    {
     "output_type": "stream",
     "name": "stdout",
     "output_type": "stream",
     "text": [
      "+----------+----------+----------+-----+----------+-------------+-----+-----------+\n|product_id|start_date|  end_date|price|product_id|purchase_date|units|total_price|\n+----------+----------+----------+-----+----------+-------------+-----+-----------+\n|         1|2019-02-17|2019-02-28|    5|         1|   2019-02-25|  100|        500|\n|         1|2019-03-01|2019-03-22|   20|         1|   2019-03-01|   15|        300|\n|         2|2019-02-01|2019-02-20|   15|         2|   2019-02-10|  200|       3000|\n|         2|2019-02-21|2019-03-31|   30|         2|   2019-03-22|   30|        900|\n+----------+----------+----------+-----+----------+-------------+-----+-----------+\n\n"
     ]
    }
   ],
   "source": [
    "join_df.show()"
   ]
  },
  {
   "cell_type": "code",
   "execution_count": 0,
   "metadata": {
    "application/vnd.databricks.v1+cell": {
     "cellMetadata": {
      "byteLimit": 2048000,
      "rowLimit": 10000
     },
     "inputWidgets": {},
     "nuid": "2a6f5962-dc57-4199-8b78-12df35ce2ba5",
     "showTitle": false,
     "title": ""
    }
   },
   "outputs": [
    {
     "output_type": "stream",
     "name": "stdout",
     "output_type": "stream",
     "text": [
      "+----------+-------------+\n|product_id|average_price|\n+----------+-------------+\n|         1|         6.96|\n|         2|        16.96|\n+----------+-------------+\n\n"
     ]
    }
   ],
   "source": [
    "join_df.groupBy(prod_df['product_id']).agg(round(((sum(\"total_price\"))/(sum(\"units\"))),2).alias(\"average_price\")).show()"
   ]
  }
 ],
 "metadata": {
  "application/vnd.databricks.v1+notebook": {
   "dashboards": [],
   "environmentMetadata": null,
   "language": "python",
   "notebookMetadata": {
    "pythonIndentUnit": 4
   },
   "notebookName": "1251. Average Selling Price",
   "widgets": {}
  }
 },
 "nbformat": 4,
 "nbformat_minor": 0
}
