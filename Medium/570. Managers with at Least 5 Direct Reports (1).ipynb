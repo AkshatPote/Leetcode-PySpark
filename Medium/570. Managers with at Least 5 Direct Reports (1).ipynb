{
 "cells": [
  {
   "cell_type": "code",
   "execution_count": 0,
   "metadata": {
    "application/vnd.databricks.v1+cell": {
     "cellMetadata": {
      "byteLimit": 2048000,
      "rowLimit": 10000
     },
     "inputWidgets": {},
     "nuid": "6ca4c1d1-694a-4a9b-8e4b-288e50ffdc48",
     "showTitle": false,
     "title": ""
    }
   },
   "outputs": [],
   "source": [
    "from pyspark.sql.functions import *\n",
    "from pyspark.sql.types import *\n",
    "from pyspark.sql.window import Window"
   ]
  },
  {
   "cell_type": "code",
   "execution_count": 0,
   "metadata": {
    "application/vnd.databricks.v1+cell": {
     "cellMetadata": {
      "byteLimit": 2048000,
      "rowLimit": 10000
     },
     "inputWidgets": {},
     "nuid": "8f64ca8d-a3d0-4dce-ad66-cf9780ab7a21",
     "showTitle": false,
     "title": ""
    }
   },
   "outputs": [],
   "source": [
    "data = ([101, 'John', 'A', None], [102, 'Dan', 'A', 101], [103, 'James', 'A', 101], [104, 'Amy', 'A', 101], [105, 'Anne', 'A', 101], [106, 'Ron', 'B', 101])\n",
    "\n",
    "schema = ['id', 'name', 'department', 'managerId']\n",
    "\n",
    "manager_df = spark.createDataFrame(data = data, schema = schema)"
   ]
  },
  {
   "cell_type": "code",
   "execution_count": 0,
   "metadata": {
    "application/vnd.databricks.v1+cell": {
     "cellMetadata": {
      "byteLimit": 2048000,
      "rowLimit": 10000
     },
     "inputWidgets": {},
     "nuid": "48ea9c38-dcd9-42de-b7ec-f35c693b8fd6",
     "showTitle": false,
     "title": ""
    }
   },
   "outputs": [
    {
     "output_type": "stream",
     "name": "stdout",
     "output_type": "stream",
     "text": [
      "+---+-----+----------+---------+\n| id| name|department|managerId|\n+---+-----+----------+---------+\n|101| John|         A|     null|\n|102|  Dan|         A|      101|\n|103|James|         A|      101|\n|104|  Amy|         A|      101|\n|105| Anne|         A|      101|\n|106|  Ron|         B|      101|\n+---+-----+----------+---------+\n\n"
     ]
    }
   ],
   "source": [
    "manager_df.show()"
   ]
  },
  {
   "cell_type": "code",
   "execution_count": 0,
   "metadata": {
    "application/vnd.databricks.v1+cell": {
     "cellMetadata": {
      "byteLimit": 2048000,
      "rowLimit": 10000
     },
     "inputWidgets": {},
     "nuid": "5d990a4b-84b0-4f13-b257-b49854436015",
     "showTitle": false,
     "title": ""
    }
   },
   "outputs": [
    {
     "output_type": "stream",
     "name": "stdout",
     "output_type": "stream",
     "text": [
      "+---------+---------+\n|managerId|mgr_count|\n+---------+---------+\n|      101|        5|\n+---------+---------+\n\n"
     ]
    }
   ],
   "source": [
    "manager_df.groupBy(\"managerId\").agg(count(\"id\").alias(\"mgr_count\")).where(col(\"mgr_count\")>=5).show()"
   ]
  }
 ],
 "metadata": {
  "application/vnd.databricks.v1+notebook": {
   "dashboards": [],
   "environmentMetadata": null,
   "language": "python",
   "notebookMetadata": {
    "pythonIndentUnit": 4
   },
   "notebookName": "570. Managers with at Least 5 Direct Reports",
   "widgets": {}
  }
 },
 "nbformat": 4,
 "nbformat_minor": 0
}
