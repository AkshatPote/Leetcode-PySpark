{
 "cells": [
  {
   "cell_type": "code",
   "execution_count": 0,
   "metadata": {
    "application/vnd.databricks.v1+cell": {
     "cellMetadata": {
      "byteLimit": 2048000,
      "rowLimit": 10000
     },
     "inputWidgets": {},
     "nuid": "0aa61ef5-24a7-4565-a097-bb9a4b0e8030",
     "showTitle": false,
     "title": ""
    }
   },
   "outputs": [],
   "source": [
    "data = [\n",
    "    (1, \"A\"),\n",
    "    (2, \"B\"),\n",
    "    (3, \"C\"),\n",
    "    (4, \"D\"),\n",
    "    (5, \"E\")\n",
    "]\n",
    "\n",
    "\n",
    "# Create DataFrame from list of tuples\n",
    "candidate = spark.createDataFrame(data, [\"id\", \"Name\"])\n"
   ]
  },
  {
   "cell_type": "code",
   "execution_count": 0,
   "metadata": {
    "application/vnd.databricks.v1+cell": {
     "cellMetadata": {
      "byteLimit": 2048000,
      "rowLimit": 10000
     },
     "inputWidgets": {},
     "nuid": "35aead44-1314-4f11-af4d-06625f2a3478",
     "showTitle": false,
     "title": ""
    }
   },
   "outputs": [
    {
     "output_type": "stream",
     "name": "stdout",
     "output_type": "stream",
     "text": [
      "+---+-----------+\n| id|CandidateId|\n+---+-----------+\n|  1|          2|\n|  2|          4|\n|  3|          3|\n|  4|          2|\n|  5|          5|\n+---+-----------+\n\n"
     ]
    }
   ],
   "source": [
    "data = [\n",
    "    (1, 2),\n",
    "    (2, 4),\n",
    "    (3, 3),\n",
    "    (4, 2),\n",
    "    (5, 5)\n",
    "]\n",
    "\n",
    "# Create DataFrame from list of tuples\n",
    "votes = spark.createDataFrame(data, [\"id\", \"CandidateId\"])\n",
    "\n",
    "# Show the DataFrame\n",
    "votes.show()"
   ]
  },
  {
   "cell_type": "code",
   "execution_count": 0,
   "metadata": {
    "application/vnd.databricks.v1+cell": {
     "cellMetadata": {
      "byteLimit": 2048000,
      "rowLimit": 10000
     },
     "inputWidgets": {},
     "nuid": "9a761873-6665-418c-9ed6-53cbf37032df",
     "showTitle": false,
     "title": ""
    }
   },
   "outputs": [
    {
     "output_type": "stream",
     "name": "stdout",
     "output_type": "stream",
     "text": [
      "+---+-----------+\n| id|CandidateId|\n+---+-----------+\n|  1|          2|\n|  2|          4|\n|  3|          3|\n|  4|          2|\n|  5|          5|\n+---+-----------+\n\n"
     ]
    }
   ],
   "source": [
    "votes.show()"
   ]
  },
  {
   "cell_type": "code",
   "execution_count": 0,
   "metadata": {
    "application/vnd.databricks.v1+cell": {
     "cellMetadata": {
      "byteLimit": 2048000,
      "rowLimit": 10000
     },
     "inputWidgets": {},
     "nuid": "94d9bb0a-bcc0-45b2-b177-c6be5247e070",
     "showTitle": false,
     "title": ""
    }
   },
   "outputs": [
    {
     "output_type": "stream",
     "name": "stdout",
     "output_type": "stream",
     "text": [
      "+---+----+\n| id|Name|\n+---+----+\n|  1|   A|\n|  2|   B|\n|  3|   C|\n|  4|   D|\n|  5|   E|\n+---+----+\n\n"
     ]
    }
   ],
   "source": [
    "candidate.show()"
   ]
  },
  {
   "cell_type": "code",
   "execution_count": 0,
   "metadata": {
    "application/vnd.databricks.v1+cell": {
     "cellMetadata": {
      "byteLimit": 2048000,
      "rowLimit": 10000
     },
     "inputWidgets": {},
     "nuid": "30d1f808-c72b-4bb9-8b01-cd07bb5bac7b",
     "showTitle": false,
     "title": ""
    }
   },
   "outputs": [],
   "source": [
    "from pyspark.sql.functions import *\n",
    "from pyspark.sql.types import *\n",
    "from pyspark.sql.window import Window"
   ]
  },
  {
   "cell_type": "code",
   "execution_count": 0,
   "metadata": {
    "application/vnd.databricks.v1+cell": {
     "cellMetadata": {
      "byteLimit": 2048000,
      "rowLimit": 10000
     },
     "inputWidgets": {},
     "nuid": "b0f3fd70-a068-431c-850b-012539a6c2d5",
     "showTitle": false,
     "title": ""
    }
   },
   "outputs": [],
   "source": [
    "df1 = votes.groupBy(\"CandidateId\").agg(count(\"*\").alias(\"total_count\")).orderBy(desc(\"total_count\")).limit(1)"
   ]
  },
  {
   "cell_type": "code",
   "execution_count": 0,
   "metadata": {
    "application/vnd.databricks.v1+cell": {
     "cellMetadata": {
      "byteLimit": 2048000,
      "rowLimit": 10000
     },
     "inputWidgets": {},
     "nuid": "b0b78d23-8fb4-4ae7-b940-f05f18eafe26",
     "showTitle": false,
     "title": ""
    }
   },
   "outputs": [
    {
     "output_type": "stream",
     "name": "stdout",
     "output_type": "stream",
     "text": [
      "+-----------+-----------+\n|CandidateId|total_count|\n+-----------+-----------+\n|          2|          2|\n+-----------+-----------+\n\n"
     ]
    }
   ],
   "source": [
    "df1.show()"
   ]
  },
  {
   "cell_type": "code",
   "execution_count": 0,
   "metadata": {
    "application/vnd.databricks.v1+cell": {
     "cellMetadata": {
      "byteLimit": 2048000,
      "rowLimit": 10000
     },
     "inputWidgets": {},
     "nuid": "b3f5327b-dcd2-4c51-8012-924e33a3d113",
     "showTitle": false,
     "title": ""
    }
   },
   "outputs": [
    {
     "output_type": "stream",
     "name": "stdout",
     "output_type": "stream",
     "text": [
      "+----+\n|Name|\n+----+\n|   B|\n+----+\n\n"
     ]
    }
   ],
   "source": [
    "final_df = df1.join(candidate, df1.CandidateId == candidate.id).select(candidate.Name).show()"
   ]
  }
 ],
 "metadata": {
  "application/vnd.databricks.v1+notebook": {
   "dashboards": [],
   "environmentMetadata": null,
   "language": "python",
   "notebookMetadata": {
    "pythonIndentUnit": 4
   },
   "notebookName": "574. Winning Candidate",
   "widgets": {}
  }
 },
 "nbformat": 4,
 "nbformat_minor": 0
}
