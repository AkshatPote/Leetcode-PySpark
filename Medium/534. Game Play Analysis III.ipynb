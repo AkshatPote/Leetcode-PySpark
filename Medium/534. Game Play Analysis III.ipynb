{
 "cells": [
  {
   "cell_type": "code",
   "execution_count": 0,
   "metadata": {
    "application/vnd.databricks.v1+cell": {
     "cellMetadata": {
      "byteLimit": 2048000,
      "rowLimit": 10000
     },
     "inputWidgets": {},
     "nuid": "1d88b052-2f0a-46ef-b199-12d87e3a43da",
     "showTitle": false,
     "title": ""
    }
   },
   "outputs": [],
   "source": [
    "activity_data = [\n",
    "    (1, 2, '2016-03-01', 5),\n",
    "    (1, 2, '2016-05-02', 6),\n",
    "    (1, 3, '2017-06-25', 1),\n",
    "    (3, 1, '2016-03-02', 0),\n",
    "    (3, 4, '2018-07-03', 5)\n",
    "]\n",
    "\n",
    "# Define schema\n",
    "activity_schema = [\"player_id\", \"device_id\", \"event_date\", \"games_played\"]\n",
    "\n",
    "# Create DataFrame\n",
    "activity_df = spark.createDataFrame(activity_data, schema=activity_schema)"
   ]
  },
  {
   "cell_type": "code",
   "execution_count": 0,
   "metadata": {
    "application/vnd.databricks.v1+cell": {
     "cellMetadata": {
      "byteLimit": 2048000,
      "rowLimit": 10000
     },
     "inputWidgets": {},
     "nuid": "a17c554f-2a2d-4ca6-886c-f80d3c9023cf",
     "showTitle": false,
     "title": ""
    }
   },
   "outputs": [
    {
     "output_type": "stream",
     "name": "stdout",
     "output_type": "stream",
     "text": [
      "+---------+---------+----------+------------+\n|player_id|device_id|event_date|games_played|\n+---------+---------+----------+------------+\n|        1|        2|2016-03-01|           5|\n|        1|        2|2016-05-02|           6|\n|        1|        3|2017-06-25|           1|\n|        3|        1|2016-03-02|           0|\n|        3|        4|2018-07-03|           5|\n+---------+---------+----------+------------+\n\n"
     ]
    }
   ],
   "source": [
    "activity_df.show()"
   ]
  },
  {
   "cell_type": "code",
   "execution_count": 0,
   "metadata": {
    "application/vnd.databricks.v1+cell": {
     "cellMetadata": {
      "byteLimit": 2048000,
      "rowLimit": 10000
     },
     "inputWidgets": {},
     "nuid": "05994656-abbc-40aa-9cd8-14ec63c13399",
     "showTitle": false,
     "title": ""
    }
   },
   "outputs": [],
   "source": [
    "from pyspark.sql.functions import *\n",
    "from pyspark.sql.types import *\n",
    "from pyspark.sql.window import Window"
   ]
  },
  {
   "cell_type": "code",
   "execution_count": 0,
   "metadata": {
    "application/vnd.databricks.v1+cell": {
     "cellMetadata": {
      "byteLimit": 2048000,
      "rowLimit": 10000
     },
     "inputWidgets": {},
     "nuid": "ac71c196-d34f-45cf-a0ca-f885e5528967",
     "showTitle": false,
     "title": ""
    }
   },
   "outputs": [
    {
     "output_type": "stream",
     "name": "stdout",
     "output_type": "stream",
     "text": [
      "+---------+---------+----------+------------+-----------+\n|player_id|device_id|event_date|games_played|total_games|\n+---------+---------+----------+------------+-----------+\n|        1|        2|2016-03-01|           5|          5|\n|        1|        2|2016-05-02|           6|         11|\n|        1|        3|2017-06-25|           1|         12|\n|        3|        1|2016-03-02|           0|          0|\n|        3|        4|2018-07-03|           5|          5|\n+---------+---------+----------+------------+-----------+\n\n"
     ]
    }
   ],
   "source": [
    "window = Window.partitionBy(\"player_id\").orderBy(\"event_date\")\n",
    "\n",
    "activity_df.withColumn(\"total_games\",sum(\"games_played\").over(window)).show()"
   ]
  }
 ],
 "metadata": {
  "application/vnd.databricks.v1+notebook": {
   "dashboards": [],
   "environmentMetadata": null,
   "language": "python",
   "notebookMetadata": {
    "pythonIndentUnit": 4
   },
   "notebookName": "534. Game Play Analysis III",
   "widgets": {}
  }
 },
 "nbformat": 4,
 "nbformat_minor": 0
}
