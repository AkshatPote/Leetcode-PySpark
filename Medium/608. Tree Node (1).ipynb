{
 "cells": [
  {
   "cell_type": "code",
   "execution_count": 0,
   "metadata": {
    "application/vnd.databricks.v1+cell": {
     "cellMetadata": {
      "byteLimit": 2048000,
      "rowLimit": 10000
     },
     "inputWidgets": {},
     "nuid": "8585d237-03d4-442c-8a37-eaab0ec5a329",
     "showTitle": false,
     "title": ""
    }
   },
   "outputs": [],
   "source": [
    "data = ([1, None], [2, 1], [3, 1], [4, 2], [5, 2])\n",
    "\n",
    "columns=['id', 'p_id']"
   ]
  },
  {
   "cell_type": "code",
   "execution_count": 0,
   "metadata": {
    "application/vnd.databricks.v1+cell": {
     "cellMetadata": {
      "byteLimit": 2048000,
      "rowLimit": 10000
     },
     "inputWidgets": {},
     "nuid": "4715d80f-a26e-4a47-a8b4-dd6fd3778f3f",
     "showTitle": false,
     "title": ""
    }
   },
   "outputs": [],
   "source": [
    "from pyspark.sql.functions import *\n",
    "from pyspark.sql.types import *\n",
    "from pyspark.sql.window import Window\n",
    "\n",
    "tree_df = spark.createDataFrame(data = data, schema = columns)"
   ]
  },
  {
   "cell_type": "code",
   "execution_count": 0,
   "metadata": {
    "application/vnd.databricks.v1+cell": {
     "cellMetadata": {
      "byteLimit": 2048000,
      "rowLimit": 10000
     },
     "inputWidgets": {},
     "nuid": "073fbc23-7ad8-4ac3-b246-10e10f0af2eb",
     "showTitle": false,
     "title": ""
    }
   },
   "outputs": [
    {
     "output_type": "stream",
     "name": "stdout",
     "output_type": "stream",
     "text": [
      "+---+----+\n| id|p_id|\n+---+----+\n|  1|null|\n|  2|   1|\n|  3|   1|\n|  4|   2|\n|  5|   2|\n+---+----+\n\n"
     ]
    }
   ],
   "source": [
    "tree_df.show()"
   ]
  },
  {
   "cell_type": "code",
   "execution_count": 0,
   "metadata": {
    "application/vnd.databricks.v1+cell": {
     "cellMetadata": {
      "byteLimit": 2048000,
      "rowLimit": 10000
     },
     "inputWidgets": {},
     "nuid": "c896f503-dcf1-4faa-99dd-7ae5892ea109",
     "showTitle": false,
     "title": ""
    }
   },
   "outputs": [
    {
     "output_type": "stream",
     "name": "stdout",
     "output_type": "stream",
     "text": [
      "+---+-----+\n| id| type|\n+---+-----+\n|  1| Root|\n|  2|Inner|\n|  3| Leaf|\n|  4| Leaf|\n|  5| Leaf|\n+---+-----+\n\n"
     ]
    }
   ],
   "source": [
    "tree_df.alias(\"t1\").join(tree_df.alias(\"t2\"),col(\"t1.id\") == col(\"t2.p_id\"),\"left\")\\\n",
    "    .withColumn(\"type\", when(col(\"t1.p_id\").isNull(),\"Root\").when(col(\"t2.p_id\").isNull(),\"Leaf\").otherwise(\"Inner\")).select(\"t1.id\",\"type\").distinct().show()"
   ]
  },
  {
   "cell_type": "code",
   "execution_count": 0,
   "metadata": {
    "application/vnd.databricks.v1+cell": {
     "cellMetadata": {},
     "inputWidgets": {},
     "nuid": "ac9cf8fc-3d7c-4a78-87b5-9655e40aed5a",
     "showTitle": false,
     "title": ""
    }
   },
   "outputs": [],
   "source": []
  }
 ],
 "metadata": {
  "application/vnd.databricks.v1+notebook": {
   "dashboards": [],
   "environmentMetadata": null,
   "language": "python",
   "notebookMetadata": {
    "pythonIndentUnit": 4
   },
   "notebookName": "608. Tree Node",
   "widgets": {}
  }
 },
 "nbformat": 4,
 "nbformat_minor": 0
}
